{
 "cells": [
  {
   "cell_type": "markdown",
   "metadata": {},
   "source": [
    "![ROOT Logo](http://root.cern.ch/img/logos/ROOT_Logo/website-banner/website-banner-%28not%20root%20picture%29.jpg)\n",
    "![Spark Logo](http://spark-mooc.github.io/web-assets/images/ta_Spark-logo-small.png)\n",
    "# **DistROOT: Example Notebook**\n",
    "<hr style=\"border-top-width: 4px; border-top-color: #34609b;\">"
   ]
  },
  {
   "cell_type": "markdown",
   "metadata": {},
   "source": [
    "Import the necessary packages."
   ]
  },
  {
   "cell_type": "code",
   "execution_count": null,
   "metadata": {
    "collapsed": false
   },
   "outputs": [],
   "source": [
    "import ROOT\n",
    "from DistROOT import DistTree"
   ]
  },
  {
   "cell_type": "markdown",
   "metadata": {},
   "source": [
    "Define the mapper and reducer functions."
   ]
  },
  {
   "cell_type": "code",
   "execution_count": null,
   "metadata": {
    "collapsed": false
   },
   "outputs": [],
   "source": [
    "%%cpp -d\n",
    "\n",
    "TH2F* fillHist(TTreeReader& reader) {\n",
    "    auto px = TTreeReaderValue<float>(reader, \"px\");\n",
    "    auto py = TTreeReaderValue<float>(reader, \"py\");\n",
    "    \n",
    "    TH2F *h = new TH2F(\"hpxpy\", \"py vs px\", 40, -4, 4, 40, -4, 4);\n",
    "    while (reader.Next()) {\n",
    "        h->Fill(*px, *py);\n",
    "    }\n",
    "    \n",
    "    return h;\n",
    "}\n",
    "\n",
    "TH2F* mergeHist(TH2F *h1, TH2F *h2) {\n",
    "    h1->Add(h2);\n",
    "    return h1;\n",
    "}"
   ]
  },
  {
   "cell_type": "markdown",
   "metadata": {},
   "source": [
    "Build the DistTree and trigger the parallel processing."
   ]
  },
  {
   "cell_type": "code",
   "execution_count": null,
   "metadata": {
    "collapsed": false
   },
   "outputs": [],
   "source": [
    "dTree = DistTree(filelist = [\"http://root.cern.ch/files/test_distroot_small.root\"],\n",
    "                 treename = \"test\",\n",
    "                 npartitions = 2)\n",
    "\n",
    "myHist = dTree.ProcessAndMerge(ROOT.fillHist, ROOT.mergeHist)"
   ]
  },
  {
   "cell_type": "markdown",
   "metadata": {},
   "source": [
    "Plot the resulting histogram."
   ]
  },
  {
   "cell_type": "code",
   "execution_count": null,
   "metadata": {
    "collapsed": false
   },
   "outputs": [],
   "source": [
    "c = ROOT.TCanvas(\"myCanvas\", \"Test Histogram\", 800, 600)\n",
    "myHist.Draw()\n",
    "c.Draw()"
   ]
  }
 ],
 "metadata": {
  "kernelspec": {
   "display_name": "Python 2",
   "language": "python",
   "name": "python2"
  },
  "language_info": {
   "codemirror_mode": {
    "name": "ipython",
    "version": 2
   },
   "file_extension": ".py",
   "mimetype": "text/x-python",
   "name": "python",
   "nbconvert_exporter": "python",
   "pygments_lexer": "ipython2",
   "version": "2.7.6"
  }
 },
 "nbformat": 4,
 "nbformat_minor": 1
}
